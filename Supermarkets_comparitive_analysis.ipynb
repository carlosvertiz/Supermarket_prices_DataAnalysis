{
 "cells": [
  {
   "cell_type": "markdown",
   "metadata": {},
   "source": [
    "In this study, i will use the data that i have collected from 3 supermarkets' web page. To collect the data, i used the scripts i have made in python and are public in my GitHub profile. \n",
    "I want to compare:\n",
    "- The range of prices in each supermarkets for each kind of product, in order to know where can you find a better range of prices and cheapper.\n",
    "- How the prices have varied in each date in each supermarket, because Argentina is a country with high inflaction.\n",
    "\n",
    "First, i start by importing all the libraries needed."
   ]
  },
  {
   "cell_type": "code",
   "execution_count": 1,
   "metadata": {},
   "outputs": [],
   "source": [
    "!pip install dash plotly jupyter_dash -q"
   ]
  },
  {
   "cell_type": "code",
   "execution_count": 1,
   "metadata": {},
   "outputs": [],
   "source": [
    "import os\n",
    "import seaborn as sns\n",
    "import pandas as pd\n",
    "import matplotlib.pyplot as plt\n",
    "import dash\n",
    "from dash import dcc\n",
    "from dash import html\n",
    "from dash.dependencies import Input, Output\n",
    "import plotly.express as px\n",
    "import pandas as pd\n",
    "import numpy as np"
   ]
  },
  {
   "cell_type": "markdown",
   "metadata": {},
   "source": [
    "Then, i list all the products that are listed in the \"basic basket\" for each supermarkets.\"Basic basket\" this is how in Argentina we refer to all the products that a family need to survive."
   ]
  },
  {
   "cell_type": "code",
   "execution_count": 2,
   "metadata": {},
   "outputs": [],
   "source": [
    "# All the products and categories i use to this study for each supermarket\n",
    "basic_products_carrefour = {\n",
    "    \"arroz\": [[\"arroz\"]],\n",
    "    \"Pan\" : [[\"pan\", \"de mesa\"]],\n",
    "    \"aceites\": [[\"aceite\", \"girasol\"]],\n",
    "    \"pasta\": [[\"fideos\", \"tirabuzon\"]],\n",
    "    \"galletitas\": [[\"galletitas\", \"crackers\"]],\n",
    "    \"harinas\": [[\"harina\", \"trigo\"]],\n",
    "    \"verduras\": [[\"papa\"],[\"cebolla\", \"x kg\"], [\"zanahoria\", \"huella\", \"kg\"]],\n",
    "    \"frutas\": [[\"manzana\"],[\"naranja\"]],\n",
    "    \"conserva\": [[\"lentejas\"]],\n",
    "    \"vacuna\": [[\"bife\",\"chorizo\"]],\n",
    "    \"sal\": [[\"sal\", \"fina\"]],\n",
    "    \"huevos\": [[\"huevos\"]],\n",
    "    \"leches\": [[\"leche\", \"lt\"]],\n",
    "    \"gaseosas\": [[\"gaseosa\"]]\n",
    "}\n",
    "\n",
    "basic_products_coto = {\n",
    "    \"arroz\": [[\"arroz\"]],\n",
    "    \"Pan\" : [[\"pan\", \"de mesa\"]],\n",
    "    \"aceites\": [[\"aceite\", \"girasol\"]],\n",
    "    \"pasta\": [[\"fideos\", \"tirabuzon\"]],\n",
    "    \"pan\": [[\"galletitas\", \"crackers\"]],\n",
    "    \"harinas\": [[\"harina\",\"trigo\"]],\n",
    "    \"verduras\": [[\"papa\", \"Xkg\"],[\"cebolla\",\"blanca\" ,\"kg\"], [\"zanahoria\", \"kg\"]],\n",
    "    \"frutas\": [[\"manzana\", \"comercial\" ,\"kg\"],[\"naranja\", \"kg\"]],\n",
    "    \"conserva\": [[\"lentejas\"]],\n",
    "    \"carniceria\": [[\"bife\",\"chorizo\"]],\n",
    "    \"condimentos\": [[\"sal\", \"fina\"]],\n",
    "    \"huevos\": [[\"huevos\"]],\n",
    "    \"lácteos\": [[\"leche\", \"L\"]],\n",
    "    \"bebidas\": [[\"gaseosa\"]]\n",
    "}\n",
    "\n",
    "basic_products_dia = {\n",
    "    \"arroz\": [[\"arroz\"]],\n",
    "    \"Pan\" : [[\"pan\", \"de molde\"]],\n",
    "    \"aceites\": [[\"aceite\", \"girasol\"]],\n",
    "    \"pasta\": [[\"fideos\",\"tirabuzon\"]],\n",
    "    \"galletitas\": [[\"galletitas\", \"crackers\"]],\n",
    "    \"harinas\": [[\"harina\",\"trigo\"]],\n",
    "    \"verduras\": [[\"papa\"],[\"cebolla\",\"kg\"], [\"zanahoria\", \"kg\"]],\n",
    "    \"frutas\": [[\"manzana\"],[\"naranja\"]],\n",
    "    \"conserva\": [[\"lentejas\"]],\n",
    "    \"carniceria\": [[\"bife\",\"chorizo\"]],\n",
    "    \"aderezos\": [[\"sal\", \"fina\"]],\n",
    "    \"Frutas-y-verduras\": [[\"huevos\"]],\n",
    "    \"leches\": [[\"leche\", \"Lt\"]],\n",
    "    \"Gaseosas\": [[\"gaseosa\"]]\n",
    "}"
   ]
  },
  {
   "cell_type": "markdown",
   "metadata": {},
   "source": [
    "In the next block of code, i sumamarise the functions that will we use. This are:\n",
    "- priceFormat to give a correct format to prices.\n",
    "- filterDataFrame to use the category and product in the \"basic basket\" to return a dataframe with this information.\n",
    "- obtainProductList to iter over all categories and product to create a dataframe with all products information."
   ]
  },
  {
   "cell_type": "code",
   "execution_count": 3,
   "metadata": {},
   "outputs": [],
   "source": [
    "def priceFormat(df):\n",
    "    \"\"\"\n",
    "    In the DF the prices hace te format 1.000,00, this functions rewrites the prices\n",
    "    in the \"Prices\" column in format 1000.00 \n",
    "    \"\"\"\n",
    "    df[\"Price\"] = df[\"Price\"].str.replace(\".\", \"\").str.replace(\",\",\".\").astype(float)\n",
    "\n",
    "def filterDataFrame(df, category_filter, product_filters):\n",
    "    \"\"\"\n",
    "    This function use the categories and products in category_filter and product_filters\n",
    "    to return a dataframe with the selected products\n",
    "    \"\"\"\n",
    "    filtered_category = df[df[\"Category\"].str.contains(category_filter, case=False, na=False)]\n",
    "    mask = filtered_category[\"Product\"].str.contains(product_filters[0], case=False, na=False)\n",
    "    for product_filter in product_filters[1:]:\n",
    "        mask &= filtered_category[\"Product\"].str.contains(product_filter, case=False, na=False)\n",
    "\n",
    "    filterd_products = filtered_category[mask]\n",
    "    if filterd_products.empty:\n",
    "        # If a product doesn\"t match it means it is out of stock\n",
    "        return pd.DataFrame([[\"NO STOCK\", category_filter, np.nan]],columns=df.columns)\n",
    "    return filterd_products\n",
    "\n",
    "def  obtainProductList(df, products, supermarket):\n",
    "    \"\"\"\n",
    "    Using the dataframe with all products and the filter for select producs,\n",
    "    this function return a dataframe with the products that fit each category\n",
    "    \"\"\"\n",
    "    df_out = pd.DataFrame()\n",
    "    for category in products.keys():\n",
    "        for product in products[category]:\n",
    "            list_products = filterDataFrame(df, category, product)\n",
    "            list_products[\"Product_type\"] = product[0]\n",
    "            if not df_out.empty:\n",
    "                df_out = pd.concat([df_out, list_products], ignore_index=True)\n",
    "            else:\n",
    "                df_out = list_products\n",
    "            \n",
    "    df_out[\"Amount\"] = 1\n",
    "    df_out[\"Supermarket\"] = supermarket\n",
    "    return df_out"
   ]
  },
  {
   "cell_type": "markdown",
   "metadata": {},
   "source": [
    "Then with the functions, i obtain all the dataframes for the most resent data for each supermarkets."
   ]
  },
  {
   "cell_type": "code",
   "execution_count": 4,
   "metadata": {},
   "outputs": [],
   "source": [
    "#Lastest data\n",
    "carrefour_data = pd.read_csv(\"Supermarket_Data/Carrefour_Prices-27-12-2023.csv\", sep=\";\")\n",
    "coto_data = pd.read_csv(\"Supermarket_Data/Coto_Prices-29-12-2023.csv\", sep=\";\")\n",
    "dia_data = pd.read_csv(\"Supermarket_Data/Dia_Prices-27-12-2023.csv\", sep=\";\")\n",
    "\n",
    "priceFormat(carrefour_data)\n",
    "priceFormat(coto_data)\n",
    "priceFormat(dia_data)\n",
    "\n",
    "selected_products_carrefour = obtainProductList(carrefour_data , basic_products_carrefour, \"Carrefour\")\n",
    "selected_products_coto= obtainProductList(coto_data , basic_products_coto, \"Coto\")\n",
    "selected_products_dia = obtainProductList(dia_data, basic_products_dia, \"Dia\")\n",
    "\n",
    "#Final df with the selected products for each supermarket\n",
    "df_products = pd.concat([selected_products_carrefour, selected_products_coto, selected_products_dia], ignore_index=True)"
   ]
  },
  {
   "cell_type": "markdown",
   "metadata": {},
   "source": [
    "I made a dashboard to visualice and easily compare the range of prices for each category in the supermarkets.  \n",
    "- It can be seen that, at least for this date 29/12/2023, Coto has the higher prices.  \n",
    "- Carrefour and Dia has better prices."
   ]
  },
  {
   "cell_type": "code",
   "execution_count": 5,
   "metadata": {},
   "outputs": [
    {
     "data": {
      "text/html": [
       "\n",
       "        <iframe\n",
       "            width=\"100%\"\n",
       "            height=\"650\"\n",
       "            src=\"http://127.0.0.1:8050/\"\n",
       "            frameborder=\"0\"\n",
       "            allowfullscreen\n",
       "            \n",
       "        ></iframe>\n",
       "        "
      ],
      "text/plain": [
       "<IPython.lib.display.IFrame at 0x1a40cf03290>"
      ]
     },
     "metadata": {},
     "output_type": "display_data"
    }
   ],
   "source": [
    "#Get products type\n",
    "types_products = df_products[\"Product_type\"].unique()\n",
    "\n",
    "app1 = dash.Dash(__name__)\n",
    "\n",
    "app1.layout = html.Div([\n",
    "    html.H1(\"Dashboard_1\"),\n",
    "    \n",
    "    # The menu where we will select the product type\n",
    "    dcc.Dropdown(\n",
    "        id=\"tipo-dropdown-1\",\n",
    "        options=[\n",
    "            {\"label\": tipo.capitalize(), \"value\": tipo} for tipo in types_products\n",
    "        ],\n",
    "        value=types_products[0],  \n",
    "        style={\n",
    "            \"width\": \"50%\",\n",
    "            \"text-align\": \"center\"  \n",
    "        }\n",
    "    ),\n",
    "    # Using boxplot\n",
    "    dcc.Graph(id=\"boxplot-1\", style={\"height\": \"600px\"}),\n",
    "])\n",
    "\n",
    "# Callback to update the boxplot\n",
    "@app1.callback(\n",
    "    Output(\"boxplot-1\", \"figure\"),\n",
    "    [Input(\"tipo-dropdown-1\", \"value\")]\n",
    ")\n",
    "def update_boxplot(product):\n",
    "    \"\"\"\n",
    "    This function use product to filter the data frame\n",
    "    and then it returns a plot showing the data for that product\n",
    "    \"\"\"\n",
    "\n",
    "    filtered_df = df_products[(df_products[\"Product_type\"] == product)]\n",
    "    \n",
    "    fig = px.box(filtered_df, x=\"Supermarket\", y=\"Price\",\n",
    "                color=\"Supermarket\",\n",
    "                boxmode=\"overlay\"\n",
    "                 )\n",
    "\n",
    "    fig.update_layout(\n",
    "        title=dict(text=f\"Price in each supermarket for {product}\", x=0.5, y=0.95),\n",
    "        xaxis=dict(title=\"Supermarket\"),\n",
    "        yaxis=dict(title=\"Price [ARS$]\"),\n",
    "        showlegend = False,\n",
    "        boxgap=0.01\n",
    "    )\n",
    "    return fig\n",
    "\n",
    "app1.run_server(mode=\"external\",port=8050)\n"
   ]
  },
  {
   "cell_type": "markdown",
   "metadata": {},
   "source": [
    "Now, i obtain the ranges of prices which the full \"basic basket\" can cost. To obtain the lower limit, i sum all the cheaper products and to have the upper limit i sum the most expensive products."
   ]
  },
  {
   "cell_type": "code",
   "execution_count": 6,
   "metadata": {},
   "outputs": [],
   "source": [
    "result = df_products.groupby([\"Supermarket\", \"Product_type\"]).agg({\"Price\": [\"min\", \"max\"]}).reset_index()\n",
    "result.columns = [\"Supermarket\", \"Product_type\", \"Min_Price\", \"Max_Price\"]\n",
    "result = result.groupby(\"Supermarket\").agg({\"Min_Price\": \"sum\", \"Max_Price\": \"sum\"}).reset_index()\n",
    "result.columns = [\"Supermarket\", \"Sum_Min_Price\", \"Sum_Max_Price\"]"
   ]
  },
  {
   "cell_type": "markdown",
   "metadata": {},
   "source": [
    "This barplot will show the ranges of prices that the \"basic basket\" can cost.\n",
    "It can be seen in the graph, that Dia and Carrefour have almost the same range of prices, but Coto is a bit expensive but it have also a vast range of prices."
   ]
  },
  {
   "cell_type": "code",
   "execution_count": 7,
   "metadata": {},
   "outputs": [
    {
     "data": {
      "image/png": "[encoded data removed]",
      "text/plain": [
       "<Figure size 1000x600 with 1 Axes>"
      ]
     },
     "metadata": {},
     "output_type": "display_data"
    }
   ],
   "source": [
    "plt.style.use(\"ggplot\")\n",
    "fig, ax = plt.subplots(figsize=(10, 6))\n",
    "colors = [\"red\", \"blue\", \"green\"]\n",
    "\n",
    "i = 0\n",
    "for index, row in result.iterrows():\n",
    "    supermarket = row[\"Supermarket\"]\n",
    "    min_price = row[\"Sum_Min_Price\"]\n",
    "    max_price = row[\"Sum_Max_Price\"]\n",
    "    ax.barh(supermarket, width=max_price - min_price, left=min_price, height=0.4, color=colors[i], alpha=0.7)\n",
    "    i += 1\n",
    "\n",
    "ax.set_xlabel(\"Price [ARS$]\")\n",
    "ax.set_ylabel(\"Supermarket\")\n",
    "ax.set_title(\"Range of prices for each Supermarket\")\n",
    "ax.set_xlim(15000, 70000)  \n",
    "plt.show()"
   ]
  },
  {
   "cell_type": "markdown",
   "metadata": {},
   "source": [
    "Now, i use all dates data for each supermarket to see how the prices have gone up or down in this period of time.  \n",
    "First, I start by finding all the files."
   ]
  },
  {
   "cell_type": "code",
   "execution_count": 8,
   "metadata": {},
   "outputs": [],
   "source": [
    "path_files = \"Supermarket_Data/\"\n",
    "files = os.listdir(path_files)\n",
    "csv_files = {\n",
    "    \"Carrefour\":[],\n",
    "    \"Coto\":[],\n",
    "    \"Dia\":[ ]\n",
    "}\n",
    "for file in files:\n",
    "    if \"csv\" in file:\n",
    "        if \"Carrefour\" in file:\n",
    "            date = file[-14:-4]\n",
    "            csv_files[\"Carrefour\"].append((path_files+file, date))\n",
    "        elif \"Coto\" in file:\n",
    "            date = file[-14:-4]\n",
    "            csv_files[\"Coto\"].append((path_files+file, date))\n",
    "        elif \"Dia\" in file:\n",
    "            date = file[-14:-4]\n",
    "            csv_files[\"Dia\"].append((path_files+file, date))"
   ]
  },
  {
   "cell_type": "markdown",
   "metadata": {},
   "source": [
    "Then with dfAllTimeData, i prepare a dataframe with all the data belong to the supermarket  for each date."
   ]
  },
  {
   "cell_type": "code",
   "execution_count": 9,
   "metadata": {},
   "outputs": [],
   "source": [
    "def dfAllTimeData(dictionary, supermarket, products_selected):\n",
    "    \"\"\"\n",
    "    This functions iter over all the CSV files from a supermarket \n",
    "    in the folder. Then filter them by the products selected \n",
    "    and return a dataframe with all the products for each date\n",
    "    \"\"\"\n",
    "\n",
    "    df_list = []\n",
    "    for category in products_selected.keys():\n",
    "        for products in products_selected[category]:\n",
    "            for csv_file, date in dictionary[supermarket]:\n",
    "                df_data = pd.read_csv(csv_file, sep=\";\")\n",
    "                priceFormat(df_data)\n",
    "                list_products = filterDataFrame(df_data, category, products)\n",
    "                list_products[\"Date\"] = pd.to_datetime(date, format=\"%d-%m-%Y\")\n",
    "                list_products[\"Product_type\"] = products[0]\n",
    "                list_products[\"Supermarket\"] = supermarket\n",
    "                df_list.append(list_products)\n",
    "    df_concatenado = pd.concat(df_list, keys=range(len(df_list)))\n",
    "    df_concatenado = df_concatenado.reset_index(drop=True)\n",
    "    df_concatenado = df_concatenado.sort_values(by=\"Date\")\n",
    "    return df_concatenado"
   ]
  },
  {
   "cell_type": "markdown",
   "metadata": {},
   "source": [
    "Then, i make the dataframes for each supermarket and concat them"
   ]
  },
  {
   "cell_type": "code",
   "execution_count": 10,
   "metadata": {},
   "outputs": [],
   "source": [
    "selected_carrefour_data = dfAllTimeData(csv_files, \"Carrefour\", basic_products_carrefour)\n",
    "selected_coto_data =  dfAllTimeData(csv_files, \"Coto\", basic_products_coto)\n",
    "selected_dia_data = dfAllTimeData(csv_files, \"Dia\", basic_products_dia)\n",
    "\n",
    "selected_data_all = pd.concat([selected_carrefour_data, selected_coto_data, selected_dia_data], ignore_index=True)"
   ]
  },
  {
   "cell_type": "markdown",
   "metadata": {},
   "source": [
    "Finally, i make a dashboard summarise how the prices have varied  for each product in a supermarket."
   ]
  },
  {
   "cell_type": "code",
   "execution_count": 11,
   "metadata": {},
   "outputs": [
    {
     "data": {
      "text/html": [
       "\n",
       "        <iframe\n",
       "            width=\"100%\"\n",
       "            height=\"650\"\n",
       "            src=\"http://127.0.0.1:8051/\"\n",
       "            frameborder=\"0\"\n",
       "            allowfullscreen\n",
       "            \n",
       "        ></iframe>\n",
       "        "
      ],
      "text/plain": [
       "<IPython.lib.display.IFrame at 0x1a42b87e540>"
      ]
     },
     "metadata": {},
     "output_type": "display_data"
    }
   ],
   "source": [
    "#Get products type and supermarket\n",
    "types_products = selected_data_all[\"Product_type\"].unique()\n",
    "supermarkets = selected_data_all[\"Supermarket\"].unique()\n",
    "\n",
    "app2 = dash.Dash(__name__)\n",
    "\n",
    "app2.layout = html.Div([\n",
    "    html.H1(\"Dashboard-2\"),\n",
    "    \n",
    "    #Each menu to select product and supermarket\n",
    "    dcc.Dropdown(\n",
    "        id=\"tipo-dropdown-1-2\",\n",
    "        options=[\n",
    "            {\"label\": tipo.capitalize(), \"value\": tipo} for tipo in types_products\n",
    "        ],\n",
    "        value=types_products[0],  \n",
    "        style={\n",
    "            \"width\": \"50%\",\n",
    "            \"text-align\": \"center\"  \n",
    "        }\n",
    "    ),\n",
    "    dcc.Dropdown(\n",
    "        id=\"tipo-dropdown-2-2\",\n",
    "        options=[\n",
    "            {\"label\": tipo.capitalize(), \"value\": tipo} for tipo in supermarkets\n",
    "        ],\n",
    "        value=supermarkets[0],  \n",
    "        style={\n",
    "            \"width\": \"50%\",\n",
    "            \"text-align\": \"center\",  \n",
    "        }\n",
    "    ),\n",
    "    # Boxplot\n",
    "    dcc.Graph(id=\"boxplot-2\"),\n",
    "])\n",
    "\n",
    "# Callback to update the boxplot\n",
    "@app2.callback(\n",
    "    Output(\"boxplot-2\", \"figure\"),\n",
    "    [Input(\"tipo-dropdown-1-2\", \"value\")],\n",
    "    [Input(\"tipo-dropdown-2-2\", \"value\")]\n",
    ")\n",
    "def update_boxplot(product, supermarket):\n",
    "    \"\"\"\n",
    "    This function use product and supermarket to filter the data frame\n",
    "    and then it returns a plot showing the data for that product\n",
    "    \"\"\"\n",
    "    filtered_df = selected_data_all[(selected_data_all[\"Product_type\"] == product) & (selected_data_all[\"Supermarket\"] == supermarket)].copy()\n",
    "    \n",
    "    filtered_df[\"Date\"] = filtered_df[\"Date\"].dt.strftime(\"%d/%m/%Y\")\n",
    "\n",
    "    fig = px.box(filtered_df, x=\"Date\", y=\"Price\",\n",
    "                 color = \"Date\")  \n",
    "    \n",
    "    fig.update_xaxes(type=\"category\", tickmode=\"array\", tickformat=\"%d/%m/%Y\")\n",
    "    \n",
    "    fig.update_layout(\n",
    "        title=dict(text=f\"Price per Date for {product} in {supermarket}\", x=0.5, y=0.95),\n",
    "        xaxis=dict(title=\"Date\"),\n",
    "        yaxis=dict(title=\"Price [ARS$]\"),\n",
    "        boxmode=\"overlay\",  \n",
    "        boxgap=0.05,       \n",
    "        boxgroupgap=0.05,\n",
    "        showlegend = False\n",
    "    )\n",
    "\n",
    "    return fig\n",
    "\n",
    "app2.run_server(mode=\"external\",port=8051)\n"
   ]
  },
  {
   "cell_type": "markdown",
   "metadata": {},
   "source": [
    "Now I want to know the average prices of each product and how much the average prices have increased compared to the previous data."
   ]
  },
  {
   "cell_type": "code",
   "execution_count": 13,
   "metadata": {},
   "outputs": [],
   "source": [
    "price_resumen = selected_data_all.groupby([\"Supermarket\", \"Product_type\", \"Date\"])[\"Price\"].mean().reset_index()\n",
    "\n",
    "price_resumen = price_resumen.sort_values(by=[\"Supermarket\", \"Product_type\", \"Date\"])\n",
    "\n",
    "price_resumen[\"Price_last_date\"] = price_resumen.groupby([\"Supermarket\", \"Product_type\"])[\"Price\"].shift(1)\n",
    "price_resumen[\"Price_last_date\"] = price_resumen.groupby([\"Supermarket\", \"Product_type\"])[\"Price_last_date\"].ffill()\n",
    "\n",
    "\n",
    "price_resumen[\"Price_porcentual_change\"] = round(100*(price_resumen[\"Price\"] - price_resumen[\"Price_last_date\"])/price_resumen[\"Price_last_date\"],1)\n",
    "price_resumen[\"Price_porcentual_change\"] = price_resumen[\"Price_porcentual_change\"].fillna(1.0)\n",
    "price_resumen[\"Price_porcentual_change\"] = price_resumen[\"Price_porcentual_change\"].replace([np.inf, -np.inf], 1.0)\n",
    "price_resumen[\"Price_porcentual_change\"] = price_resumen[\"Price_porcentual_change\"].replace(0, 1.0)\n",
    "\n",
    "price_resumen = price_resumen.drop(\"Price_last_date\", axis = 1)\n"
   ]
  },
  {
   "cell_type": "markdown",
   "metadata": {},
   "source": [
    "Then, i make a dashboard to summarise how the mean prices have incresed or decreased for each product in a supermarket"
   ]
  },
  {
   "cell_type": "code",
   "execution_count": 14,
   "metadata": {},
   "outputs": [
    {
     "data": {
      "text/html": [
       "\n",
       "        <iframe\n",
       "            width=\"100%\"\n",
       "            height=\"650\"\n",
       "            src=\"http://127.0.0.1:8052/\"\n",
       "            frameborder=\"0\"\n",
       "            allowfullscreen\n",
       "            \n",
       "        ></iframe>\n",
       "        "
      ],
      "text/plain": [
       "<IPython.lib.display.IFrame at 0x1ddb24a6480>"
      ]
     },
     "metadata": {},
     "output_type": "display_data"
    }
   ],
   "source": [
    "#Get products type and supermarket\n",
    "types_products = price_resumen[\"Product_type\"].unique()\n",
    "supermarkets = price_resumen[\"Supermarket\"].unique()\n",
    "\n",
    "app3 = dash.Dash(__name__)\n",
    "\n",
    "app3.layout = html.Div([\n",
    "    html.H1(\"Dashboard-3\"),\n",
    "    \n",
    "    #Each menu to select product and supermarket\n",
    "    dcc.Dropdown(\n",
    "        id=\"tipo-dropdown-1-3\",\n",
    "        options=[\n",
    "            {\"label\": tipo.capitalize(), \"value\": tipo} for tipo in types_products\n",
    "        ],\n",
    "        value=types_products[0],  \n",
    "        style={\n",
    "            \"width\": \"50%\",\n",
    "            \"text-align\": \"center\"  \n",
    "        }\n",
    "    ),\n",
    "    dcc.Dropdown(\n",
    "        id=\"tipo-dropdown-2-3\",\n",
    "        options=[\n",
    "            {\"label\": tipo.capitalize(), \"value\": tipo} for tipo in supermarkets\n",
    "        ],\n",
    "        value=supermarkets[0],  \n",
    "        style={\n",
    "            \"width\": \"50%\",\n",
    "            \"text-align\": \"center\",  \n",
    "        }\n",
    "    ),\n",
    "    # Barplot\n",
    "    dcc.Graph(id=\"barplot\"),\n",
    "])\n",
    "\n",
    "# Callback to update the boxplot\n",
    "@app3.callback(\n",
    "    Output(\"barplot\", \"figure\"),\n",
    "    [Input(\"tipo-dropdown-1-3\", \"value\")],\n",
    "    [Input(\"tipo-dropdown-2-3\", \"value\")]\n",
    ")\n",
    "def update_boxplot(product, supermarket):\n",
    "    \"\"\"\n",
    "    This function use product and supermarket to filter the data frame\n",
    "    and then it returns a plot showing the data for that product\n",
    "    \"\"\"\n",
    "    filtered_df = price_resumen[(price_resumen[\"Product_type\"] == product) & (price_resumen[\"Supermarket\"] == supermarket)].copy()\n",
    "    \n",
    "    filtered_df[\"Date\"] = filtered_df[\"Date\"].dt.strftime(\"%d/%m/%Y\")\n",
    "    filtered_df[\"text\"] = filtered_df[\"Price_porcentual_change\"].apply(lambda x: f\"Change: {x:.2f}%\")\n",
    "\n",
    "    fig = px.bar(filtered_df, x=\"Date\", y=\"Price\", color=\"Date\", text=\"text\")  \n",
    "    \n",
    "    fig.update_xaxes(type=\"category\", tickmode=\"array\", tickformat=\"%d/%m/%Y\")\n",
    "    \n",
    "    fig.update_layout(\n",
    "        title=dict(text=f\"Mean price per Date for {product} in {supermarket}\", x=0.5, y=0.95),\n",
    "        xaxis=dict(title=\"Date\"),\n",
    "        yaxis=dict(title=\"Price [ARS$]\"),\n",
    "        bargap=0.05,       \n",
    "        bargroupgap=0.05,\n",
    "        showlegend=False   \n",
    "    )\n",
    "\n",
    "    return fig\n",
    "\n",
    "app3.run_server(mode=\"external\",port=8052)\n",
    "\n"
   ]
  },
  {
   "cell_type": "markdown",
   "metadata": {},
   "source": [
    "Finally, i calculate the mean cumulative inflation for each supermarket, this will show us how much in average the products prices have increase in this period of time.  \n",
    "It can be seen that the product have incresed in, at least, 20% in each supermarkets. In Dia, the product have increased more."
   ]
  },
  {
   "cell_type": "code",
   "execution_count": 15,
   "metadata": {},
   "outputs": [
    {
     "data": {
      "image/png": "[encoded data removed]",
      "text/plain": [
       "<Figure size 1000x600 with 1 Axes>"
      ]
     },
     "metadata": {},
     "output_type": "display_data"
    }
   ],
   "source": [
    "price_resumen[\"Price_change\"] = (1 + price_resumen[\"Price_porcentual_change\"]/100)\n",
    "price_resumen[\"acumulates_inflation\"] = price_resumen.groupby([\"Supermarket\", \"Product_type\"])[\"Price_change\"].cumprod()\n",
    "mean_inflation = price_resumen.groupby([\"Supermarket\"])[\"acumulates_inflation\"].mean().reset_index()\n",
    "\n",
    "\n",
    "plt.style.use(\"ggplot\")\n",
    "\n",
    "plt.figure(figsize=(10, 6))\n",
    "\n",
    "bars = plt.bar(mean_inflation[\"Supermarket\"], mean_inflation[\"acumulates_inflation\"], color= [\"red\", \"blue\", \"green\"], width=0.9)\n",
    "\n",
    "plt.title(\"Mean Inflation by Supermarket\")\n",
    "plt.xlabel(\"Supermarket\")\n",
    "plt.ylabel(\"Mean Inflation \")\n",
    "plt.xticks(rotation=0, ha=\"center\") \n",
    "\n",
    "plt.show()"
   ]
  }
 ],
 "metadata": {
  "kernelspec": {
   "display_name": "Python 3 (ipykernel)",
   "language": "python",
   "name": "python3"
  },
  "language_info": {
   "codemirror_mode": {
    "name": "ipython",
    "version": 3
   },
   "file_extension": ".py",
   "mimetype": "text/x-python",
   "name": "python",
   "nbconvert_exporter": "python",
   "pygments_lexer": "ipython3",
   "version": "3.12.0"
  }
 },
 "nbformat": 4,
 "nbformat_minor": 4
}
